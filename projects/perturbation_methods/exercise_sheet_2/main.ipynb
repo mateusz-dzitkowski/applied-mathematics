{
 "cells": [
  {
   "metadata": {
    "ExecuteTime": {
     "end_time": "2024-10-18T09:29:20.591790Z",
     "start_time": "2024-10-18T09:29:20.588237Z"
    }
   },
   "cell_type": "code",
   "source": "from sympy import *",
   "id": "3bcf73e1db950f35",
   "outputs": [],
   "execution_count": 56
  },
  {
   "metadata": {},
   "cell_type": "markdown",
   "source": "# Exercise 1",
   "id": "d76b4ad2540b7543"
  },
  {
   "metadata": {
    "ExecuteTime": {
     "end_time": "2024-10-18T10:09:05.889912Z",
     "start_time": "2024-10-18T10:09:05.883828Z"
    }
   },
   "cell_type": "code",
   "source": [
    "x, x_0, a_1, a_2 = symbols(\"x, x_0, a_1, a_2\")\n",
    "alpha_1, alpha_2 = 1, 2\n",
    "e = Symbol(\"varepsilon\", bounded=True, positive=True)\n",
    "\n",
    "expr = x**2 - e*x - 1\n",
    "x_approx = x_0 + a_1*e + a_2*e**2\n",
    "\n",
    "x_1, x_2 = solve(expr.subs(e, 0))"
   ],
   "id": "9aa8e30f2de533a3",
   "outputs": [],
   "execution_count": 126
  },
  {
   "metadata": {
    "ExecuteTime": {
     "end_time": "2024-10-18T10:09:07.276387Z",
     "start_time": "2024-10-18T10:09:06.278855Z"
    }
   },
   "cell_type": "code",
   "source": [
    "expr_subbed = (expr.subs(x, x_0 + a_1*e**alpha_1 + a_2*e**alpha_2) + O(e**3)).expand().removeO() \n",
    "solutions = [\n",
    "    x_approx.subs(\n",
    "        solve_undetermined_coeffs(\n",
    "            expr_subbed.subs(x_0, x00),\n",
    "            (a_1, a_2), \n",
    "            e,\n",
    "        )\n",
    "    ).subs(x_0, x00)\n",
    "    for x00 in [x_1, x_2]\n",
    "]\n",
    "\n",
    "solutions "
   ],
   "id": "5f97252092a27cdb",
   "outputs": [
    {
     "data": {
      "text/plain": [
       "⎡            2                             2                 ⎤\n",
       "⎢  varepsilon    varepsilon      varepsilon    varepsilon    ⎥\n",
       "⎢- ─────────── + ────────── - 1, ─────────── + ────────── + 1⎥\n",
       "⎣       8            2                8            2         ⎦"
      ],
      "image/png": "[encoded data removed]",
      "text/latex": "$\\displaystyle \\left[ - \\frac{\\varepsilon^{2}}{8} + \\frac{\\varepsilon}{2} - 1, \\  \\frac{\\varepsilon^{2}}{8} + \\frac{\\varepsilon}{2} + 1\\right]$"
     },
     "execution_count": 127,
     "metadata": {},
     "output_type": "execute_result"
    }
   ],
   "execution_count": 127
  },
  {
   "metadata": {},
   "cell_type": "markdown",
   "source": "# Exercise 2",
   "id": "2cb535a3d49bbb9"
  },
  {
   "metadata": {
    "ExecuteTime": {
     "end_time": "2024-10-18T10:29:07.652762Z",
     "start_time": "2024-10-18T10:29:07.647556Z"
    }
   },
   "cell_type": "code",
   "source": [
    "x, x_0, a, alpha = symbols(\"x, x_0, a, alpha\")\n",
    "e = Symbol(\"varepsilon\", positive=True, bounded=True)\n",
    "\n",
    "expr = x**3 - (4-e)*x + 2*e\n",
    "x_approx = x_0 + a*e**alpha\n",
    "\n",
    "x_1, x_2, x_3 = solve(expr.subs(e, 0))\n",
    "expr_subbed = expr.subs(x, x_approx)"
   ],
   "id": "e81f9d3210c78a96",
   "outputs": [],
   "execution_count": 160
  },
  {
   "metadata": {
    "ExecuteTime": {
     "end_time": "2024-10-18T10:29:30.387781Z",
     "start_time": "2024-10-18T10:29:29.728723Z"
    }
   },
   "cell_type": "code",
   "source": "expr_subbed.subs(x_0, x_1).expand()",
   "id": "35ec16992806b8dd",
   "outputs": [
    {
     "data": {
      "text/plain": [
       " 3           3⋅α      2           2⋅α                          α               ↪\n",
       "a ⋅varepsilon    - 6⋅a ⋅varepsilon    + a⋅varepsilon⋅varepsilon  + 8⋅a⋅varepsi ↪\n",
       "\n",
       "↪    α\n",
       "↪ lon "
      ],
      "image/png": "[encoded data removed]",
      "text/latex": "$\\displaystyle a^{3} \\varepsilon^{3 \\alpha} - 6 a^{2} \\varepsilon^{2 \\alpha} + a \\varepsilon \\varepsilon^{\\alpha} + 8 a \\varepsilon^{\\alpha}$"
     },
     "execution_count": 162,
     "metadata": {},
     "output_type": "execute_result"
    }
   ],
   "execution_count": 162
  },
  {
   "metadata": {
    "ExecuteTime": {
     "end_time": "2024-10-18T10:23:38.143391Z",
     "start_time": "2024-10-18T10:23:37.526268Z"
    }
   },
   "cell_type": "code",
   "source": [
    "alpha_solved = 1\n",
    "a_solved = solve((expr_subbed.subs(x_0, x_1).subs(alpha, alpha_solved).expand() + O(e**2)).removeO().coeff(e))[0]\n",
    "x_approx.subs({x_0: x_2, a: a_solved, alpha: alpha_solved})"
   ],
   "id": "6ee1b816b91d8bae",
   "outputs": [
    {
     "data": {
      "text/plain": [
       "0"
      ],
      "image/png": "[encoded data removed]",
      "text/latex": "$\\displaystyle 0$"
     },
     "execution_count": 155,
     "metadata": {},
     "output_type": "execute_result"
    }
   ],
   "execution_count": 155
  },
  {
   "metadata": {},
   "cell_type": "code",
   "outputs": [],
   "execution_count": null,
   "source": " ",
   "id": "1250e71be4d802e2"
  }
 ],
 "metadata": {
  "kernelspec": {
   "display_name": "Python 3",
   "language": "python",
   "name": "python3"
  },
  "language_info": {
   "codemirror_mode": {
    "name": "ipython",
    "version": 2
   },
   "file_extension": ".py",
   "mimetype": "text/x-python",
   "name": "python",
   "nbconvert_exporter": "python",
   "pygments_lexer": "ipython2",
   "version": "2.7.6"
  }
 },
 "nbformat": 4,
 "nbformat_minor": 5
}
