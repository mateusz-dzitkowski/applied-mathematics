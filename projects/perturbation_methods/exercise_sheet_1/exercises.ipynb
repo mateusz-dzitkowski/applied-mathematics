{
 "cells": [
  {
   "cell_type": "code",
   "id": "initial_id",
   "metadata": {
    "collapsed": true,
    "ExecuteTime": {
     "end_time": "2024-10-06T10:13:41.351787Z",
     "start_time": "2024-10-06T10:13:40.796316Z"
    }
   },
   "source": "from sympy import *",
   "outputs": [],
   "execution_count": 2
  },
  {
   "metadata": {},
   "cell_type": "markdown",
   "source": "Exercise 1",
   "id": "b95878d4a29b3f91"
  },
  {
   "metadata": {
    "ExecuteTime": {
     "end_time": "2024-10-06T10:13:42.638378Z",
     "start_time": "2024-10-06T10:13:42.076378Z"
    }
   },
   "cell_type": "code",
   "source": [
    "e, x = symbols(\"varepsilon, x\")\n",
    "p = Symbol(\"p\", positive=True)\n",
    "\n",
    "# a\n",
    "print(f\"\"\"\n",
    "a: {(sqrt(e - e ** 2) / sqrt(e)).limit(e, 0)}\n",
    "b: {(sqrt(e) / (1 - cos(e)) / e ** (-3 / 2)).limit(e, 0)}\n",
    "c: {((exp(e) - 1) / e).limit(e, 0)}\n",
    "d: {(integrate(exp(-x**2), (x, 0, e)) / e).limit(e, 0)}\n",
    "e: {(exp(-1/e) / 1).limit(e, 0)}\n",
    "f: {(exp(tan(e)) / 1).limit(e, 0)}\n",
    "g: {(exp(-1/e) / e**p).limit(e, 0)}\n",
    "h: {(ln(e) / e**(-p)).limit(e, 0)}\n",
    "\"\"\")"
   ],
   "id": "1a5012924b173ef7",
   "outputs": [
    {
     "name": "stdout",
     "output_type": "stream",
     "text": [
      "\n",
      "a: 1\n",
      "b: 2\n",
      "c: 1\n",
      "d: 1\n",
      "e: 0\n",
      "f: 1\n",
      "g: 0\n",
      "h: 0\n",
      "\n"
     ]
    }
   ],
   "execution_count": 3
  },
  {
   "metadata": {},
   "cell_type": "markdown",
   "source": "Exercise 2",
   "id": "610a147cac914813"
  },
  {
   "metadata": {
    "ExecuteTime": {
     "end_time": "2024-10-06T10:13:42.901704Z",
     "start_time": "2024-10-06T10:13:42.794913Z"
    }
   },
   "cell_type": "code",
   "source": [
    "e = Symbol(\"varepsilon\")\n",
    "limit(e**2*(1 + ln(e)) / e, e, 0)"
   ],
   "id": "bfa191444fff9138",
   "outputs": [
    {
     "data": {
      "text/plain": [
       "0"
      ],
      "text/latex": "$\\displaystyle 0$"
     },
     "execution_count": 4,
     "metadata": {},
     "output_type": "execute_result"
    }
   ],
   "execution_count": 4
  },
  {
   "metadata": {},
   "cell_type": "markdown",
   "source": "Exercise 3",
   "id": "d17c9082e1eb293d"
  },
  {
   "metadata": {
    "ExecuteTime": {
     "end_time": "2024-10-06T10:13:43.216382Z",
     "start_time": "2024-10-06T10:13:43.184406Z"
    }
   },
   "cell_type": "code",
   "source": [
    "e = Symbol(\"varepsilon\")\n",
    "\n",
    "# at x=1\n",
    "f = 1 + e**(-1/e)\n",
    "g = 1\n",
    "\n",
    "err = f - g\n",
    "limit(err, e, 0)"
   ],
   "id": "a26c550903c05369",
   "outputs": [
    {
     "data": {
      "text/plain": [
       "oo"
      ],
      "text/latex": "$\\displaystyle \\infty$"
     },
     "execution_count": 5,
     "metadata": {},
     "output_type": "execute_result"
    }
   ],
   "execution_count": 5
  },
  {
   "metadata": {},
   "cell_type": "markdown",
   "source": "Exercise 4",
   "id": "59dd9ea99ae10a35"
  },
  {
   "metadata": {
    "ExecuteTime": {
     "end_time": "2024-10-06T10:13:44.082594Z",
     "start_time": "2024-10-06T10:13:44.038705Z"
    }
   },
   "cell_type": "code",
   "source": [
    "e = Symbol(\"varepsilon\")\n",
    "\n",
    "# counterexample: take x = 1/e\n",
    "f = (1 + e*x)**(-3/2)\n",
    "f_series = series(f, e, 0, 3)\n",
    "err = f - f_series\n",
    "limit(err.subs(x, 1/e), e, 0)"
   ],
   "id": "bda279e2d13cdbea",
   "outputs": [
    {
     "data": {
      "text/plain": [
       "-102144660940673/100000000000000"
      ],
      "text/latex": "$\\displaystyle - \\frac{102144660940673}{100000000000000}$"
     },
     "execution_count": 6,
     "metadata": {},
     "output_type": "execute_result"
    }
   ],
   "execution_count": 6
  },
  {
   "metadata": {},
   "cell_type": "markdown",
   "source": "Exercise 7",
   "id": "12cd80ada70d7ece"
  },
  {
   "metadata": {
    "ExecuteTime": {
     "end_time": "2024-10-06T10:27:47.721160Z",
     "start_time": "2024-10-06T10:27:47.064979Z"
    }
   },
   "cell_type": "code",
   "source": [
    "x = Symbol(\"x\")\n",
    "s = Symbol(\"s\")\n",
    "\n",
    "integrand = exp(-s) / s\n",
    "ei = integrand.integrate((s, -x, oo), manual=True)\n",
    "ei_series = ei.aseries(x)\n",
    "ei_series.subs(x, -x)"
   ],
   "id": "6ee3dd00835b621e",
   "outputs": [
    {
     "data": {
      "text/plain": [
       "-120*exp(-x)/x**6 + 24*exp(-x)/x**5 - 6*exp(-x)/x**4 + 2*exp(-x)/x**3 - exp(-x)/x**2 + exp(-x)/x + O(-exp(-x)/x**7, (x, -oo))"
      ],
      "text/latex": "$\\displaystyle - \\frac{120 e^{- x}}{x^{6}} + \\frac{24 e^{- x}}{x^{5}} - \\frac{6 e^{- x}}{x^{4}} + \\frac{2 e^{- x}}{x^{3}} - \\frac{e^{- x}}{x^{2}} + \\frac{e^{- x}}{x} + O\\left(- \\frac{e^{- x}}{x^{7}}; x\\rightarrow -\\infty\\right)$"
     },
     "execution_count": 25,
     "metadata": {},
     "output_type": "execute_result"
    }
   ],
   "execution_count": 25
  },
  {
   "metadata": {},
   "cell_type": "code",
   "outputs": [],
   "execution_count": null,
   "source": "",
   "id": "57df401dc4673521"
  }
 ],
 "metadata": {
  "kernelspec": {
   "display_name": "Python 3",
   "language": "python",
   "name": "python3"
  },
  "language_info": {
   "codemirror_mode": {
    "name": "ipython",
    "version": 2
   },
   "file_extension": ".py",
   "mimetype": "text/x-python",
   "name": "python",
   "nbconvert_exporter": "python",
   "pygments_lexer": "ipython2",
   "version": "2.7.6"
  }
 },
 "nbformat": 4,
 "nbformat_minor": 5
}
