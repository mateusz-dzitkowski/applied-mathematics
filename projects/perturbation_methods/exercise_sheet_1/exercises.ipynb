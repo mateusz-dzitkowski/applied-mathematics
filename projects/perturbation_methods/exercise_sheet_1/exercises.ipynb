{
 "cells": [
  {
   "cell_type": "code",
   "execution_count": 2,
   "id": "initial_id",
   "metadata": {
    "ExecuteTime": {
     "end_time": "2024-10-06T10:13:41.351787Z",
     "start_time": "2024-10-06T10:13:40.796316Z"
    },
    "collapsed": true
   },
   "outputs": [],
   "source": [
    "from sympy import *"
   ]
  },
  {
   "cell_type": "markdown",
   "id": "b95878d4a29b3f91",
   "metadata": {},
   "source": "Exercise 1"
  },
  {
   "cell_type": "code",
   "execution_count": 3,
   "id": "1a5012924b173ef7",
   "metadata": {
    "ExecuteTime": {
     "end_time": "2024-10-06T10:13:42.638378Z",
     "start_time": "2024-10-06T10:13:42.076378Z"
    }
   },
   "outputs": [
    {
     "name": "stdout",
     "output_type": "stream",
     "text": [
      "\n",
      "a: 1\n",
      "b: 2\n",
      "c: 1\n",
      "d: 1\n",
      "e: 0\n",
      "f: 1\n",
      "g: 0\n",
      "h: 0\n",
      "\n"
     ]
    }
   ],
   "source": [
    "e, x = symbols(\"varepsilon, x\")\n",
    "p = Symbol(\"p\", positive=True)\n",
    "\n",
    "# a\n",
    "print(f\"\"\"\n",
    "a: {(sqrt(e - e ** 2) / sqrt(e)).limit(e, 0)}\n",
    "b: {(sqrt(e) / (1 - cos(e)) / e ** (-3 / 2)).limit(e, 0)}\n",
    "c: {((exp(e) - 1) / e).limit(e, 0)}\n",
    "d: {(integrate(exp(-x**2), (x, 0, e)) / e).limit(e, 0)}\n",
    "e: {(exp(-1/e) / 1).limit(e, 0)}\n",
    "f: {(exp(tan(e)) / 1).limit(e, 0)}\n",
    "g: {(exp(-1/e) / e**p).limit(e, 0)}\n",
    "h: {(ln(e) / e**(-p)).limit(e, 0)}\n",
    "\"\"\")"
   ]
  },
  {
   "cell_type": "markdown",
   "id": "610a147cac914813",
   "metadata": {},
   "source": "Exercise 2"
  },
  {
   "cell_type": "code",
   "execution_count": 4,
   "id": "bfa191444fff9138",
   "metadata": {
    "ExecuteTime": {
     "end_time": "2024-10-06T10:13:42.901704Z",
     "start_time": "2024-10-06T10:13:42.794913Z"
    }
   },
   "outputs": [
    {
     "data": {
      "text/latex": "$\\displaystyle 0$",
      "text/plain": [
       "0"
      ]
     },
     "execution_count": 4,
     "metadata": {},
     "output_type": "execute_result"
    }
   ],
   "source": [
    "e = Symbol(\"varepsilon\")\n",
    "limit(e**2 * (1 + ln(e)) / e, e, 0)"
   ]
  },
  {
   "cell_type": "markdown",
   "id": "d17c9082e1eb293d",
   "metadata": {},
   "source": "Exercise 3"
  },
  {
   "cell_type": "code",
   "execution_count": 5,
   "id": "a26c550903c05369",
   "metadata": {
    "ExecuteTime": {
     "end_time": "2024-10-06T10:13:43.216382Z",
     "start_time": "2024-10-06T10:13:43.184406Z"
    }
   },
   "outputs": [
    {
     "data": {
      "text/latex": "$\\displaystyle \\infty$",
      "text/plain": [
       "oo"
      ]
     },
     "execution_count": 5,
     "metadata": {},
     "output_type": "execute_result"
    }
   ],
   "source": [
    "e = Symbol(\"varepsilon\")\n",
    "\n",
    "# at x=1\n",
    "f = 1 + e ** (-1 / e)\n",
    "g = 1\n",
    "\n",
    "err = f - g\n",
    "limit(err, e, 0)"
   ]
  },
  {
   "cell_type": "markdown",
   "id": "59dd9ea99ae10a35",
   "metadata": {},
   "source": "Exercise 4"
  },
  {
   "cell_type": "code",
   "execution_count": 6,
   "id": "bda279e2d13cdbea",
   "metadata": {
    "ExecuteTime": {
     "end_time": "2024-10-06T10:13:44.082594Z",
     "start_time": "2024-10-06T10:13:44.038705Z"
    }
   },
   "outputs": [
    {
     "data": {
      "text/latex": "$\\displaystyle - \\frac{102144660940673}{100000000000000}$",
      "text/plain": [
       "-102144660940673/100000000000000"
      ]
     },
     "execution_count": 6,
     "metadata": {},
     "output_type": "execute_result"
    }
   ],
   "source": [
    "e = Symbol(\"varepsilon\")\n",
    "\n",
    "# counterexample: take x = 1/e\n",
    "f = (1 + e * x) ** (-3 / 2)\n",
    "f_series = series(f, e, 0, 3)\n",
    "err = f - f_series\n",
    "limit(err.subs(x, 1 / e), e, 0)"
   ]
  },
  {
   "cell_type": "markdown",
   "id": "12cd80ada70d7ece",
   "metadata": {},
   "source": "Exercise 7"
  },
  {
   "cell_type": "code",
   "execution_count": 25,
   "id": "6ee3dd00835b621e",
   "metadata": {
    "ExecuteTime": {
     "end_time": "2024-10-06T10:27:47.721160Z",
     "start_time": "2024-10-06T10:27:47.064979Z"
    }
   },
   "outputs": [
    {
     "data": {
      "text/latex": "$\\displaystyle - \\frac{120 e^{- x}}{x^{6}} + \\frac{24 e^{- x}}{x^{5}} - \\frac{6 e^{- x}}{x^{4}} + \\frac{2 e^{- x}}{x^{3}} - \\frac{e^{- x}}{x^{2}} + \\frac{e^{- x}}{x} + O\\left(- \\frac{e^{- x}}{x^{7}}; x\\rightarrow -\\infty\\right)$",
      "text/plain": [
       "-120*exp(-x)/x**6 + 24*exp(-x)/x**5 - 6*exp(-x)/x**4 + 2*exp(-x)/x**3 - exp(-x)/x**2 + exp(-x)/x + O(-exp(-x)/x**7, (x, -oo))"
      ]
     },
     "execution_count": 25,
     "metadata": {},
     "output_type": "execute_result"
    }
   ],
   "source": [
    "x = Symbol(\"x\")\n",
    "s = Symbol(\"s\")\n",
    "\n",
    "integrand = exp(-s) / s\n",
    "ei = integrand.integrate((s, -x, oo), manual=True)\n",
    "ei_series = ei.aseries(x)\n",
    "ei_series.subs(x, -x)"
   ]
  },
  {
   "cell_type": "code",
   "execution_count": null,
   "id": "57df401dc4673521",
   "metadata": {},
   "outputs": [],
   "source": []
  }
 ],
 "metadata": {
  "kernelspec": {
   "display_name": "Python 3",
   "language": "python",
   "name": "python3"
  },
  "language_info": {
   "codemirror_mode": {
    "name": "ipython",
    "version": 2
   },
   "file_extension": ".py",
   "mimetype": "text/x-python",
   "name": "python",
   "nbconvert_exporter": "python",
   "pygments_lexer": "ipython2",
   "version": "2.7.6"
  }
 },
 "nbformat": 4,
 "nbformat_minor": 5
}
