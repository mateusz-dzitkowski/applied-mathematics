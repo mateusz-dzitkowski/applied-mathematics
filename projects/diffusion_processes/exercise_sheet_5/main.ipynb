{
 "cells": [
  {
   "cell_type": "markdown",
   "id": "e6a5ccfafa89fad",
   "metadata": {},
   "source": [
    "# Diffusion processes on complex networks - assignment 5\n",
    "### Mateusz Dzitkowski 249777\n",
    "\n",
    "## Exercise 1\n",
    "\n",
    "We are tasked with solving numerically the following set of equations:\n",
    "$$\n",
    "\\begin{aligned}\n",
    "S'(t) &= -\\beta SI \\\\\n",
    "I'(t) &= \\beta SI - rI \\\\\n",
    "R'(t) &= rI.\n",
    "\\end{aligned}\n",
    "$$\n",
    "\n",
    "We will see if the definition of $R_0$ given by $R_0 = \\frac{\\beta N}{r}$ makes sense given the numerical results."
   ]
  },
  {
   "cell_type": "code",
   "execution_count": null,
   "id": "50801ec304bfe382",
   "metadata": {
    "ExecuteTime": {
     "end_time": "2024-06-04T20:03:05.008667Z",
     "start_time": "2024-06-04T20:03:05.004857Z"
    }
   },
   "outputs": [],
   "source": [
    "from warnings import filterwarnings\n",
    "\n",
    "from exercise_1 import (\n",
    "    show_phase_portrait_and_trajectories,\n",
    "    show_solution,\n",
    "    show_total_number_of_infected,\n",
    ")\n",
    "from plotly.offline import init_notebook_mode\n",
    "\n",
    "filterwarnings(\"ignore\")  # stinky division by zero\n",
    "init_notebook_mode(connected=True)"
   ]
  },
  {
   "cell_type": "markdown",
   "id": "4c6f0ce3334d4bbd",
   "metadata": {},
   "source": [
    "We will plot the evolution of the system for various parameters. We fix $N = 1$, and $r = 1$, and vary $\\beta$ so that $R_0 = \\beta$, here are the results:"
   ]
  },
  {
   "cell_type": "code",
   "execution_count": null,
   "id": "f6e85e4722a0b79a",
   "metadata": {},
   "outputs": [],
   "source": [
    "show_solution(\n",
    "    beta=0.4,\n",
    "    r=1,\n",
    "    t_max=10,\n",
    "    initial=[0.85, 0.15, 0],\n",
    ")"
   ]
  },
  {
   "cell_type": "code",
   "execution_count": null,
   "id": "5ae61c7d8eda21ea",
   "metadata": {},
   "outputs": [],
   "source": [
    "show_solution(\n",
    "    beta=0.8,\n",
    "    r=1,\n",
    "    t_max=10,\n",
    "    initial=[0.85, 0.15, 0],\n",
    ")"
   ]
  },
  {
   "cell_type": "code",
   "execution_count": null,
   "id": "f299e68e6d939e86",
   "metadata": {},
   "outputs": [],
   "source": [
    "show_solution(\n",
    "    beta=1,\n",
    "    r=1,\n",
    "    t_max=10,\n",
    "    initial=[0.85, 0.15, 0],\n",
    ")"
   ]
  },
  {
   "cell_type": "code",
   "execution_count": null,
   "id": "38d824783d02601b",
   "metadata": {},
   "outputs": [],
   "source": [
    "show_solution(\n",
    "    beta=1.2,\n",
    "    r=1,\n",
    "    t_max=10,\n",
    "    initial=[0.85, 0.15, 0],\n",
    ")"
   ]
  },
  {
   "cell_type": "code",
   "execution_count": null,
   "id": "442d0c07bd2c7db",
   "metadata": {},
   "outputs": [],
   "source": [
    "show_solution(\n",
    "    beta=1.8,\n",
    "    r=1,\n",
    "    t_max=10,\n",
    "    initial=[0.85, 0.15, 0],\n",
    ")"
   ]
  },
  {
   "cell_type": "markdown",
   "id": "d288ae97db38b74b",
   "metadata": {},
   "source": [
    "As we can see, the green, removed, line barely lifts off the ground at small $\\beta$, but as $\\beta$ increases, the epidemic spreads more and more, at $\\beta = 1.8$ over $0.8$ of the population gets infected.\n",
    "\n",
    "Now we will plot the phase portrait of the reduced $SI$ system given by\n",
    "$$\n",
    "\\begin{aligned}\n",
    "S'(t) &= -\\beta SI \\\\\n",
    "I'(t) &= \\beta SI - rI\n",
    "\\end{aligned}\n",
    "$$\n",
    "along with some trajectories starting at random points in the $[0, 1]^2$ square."
   ]
  },
  {
   "cell_type": "code",
   "execution_count": null,
   "id": "b31a5b01224e2148",
   "metadata": {},
   "outputs": [],
   "source": [
    "show_phase_portrait_and_trajectories(\n",
    "    beta=0.3,\n",
    "    r=1,\n",
    "    num_trajectories=10,\n",
    "    normalised=True,\n",
    ")"
   ]
  },
  {
   "cell_type": "code",
   "execution_count": null,
   "id": "f96c0dfc6247e723",
   "metadata": {},
   "outputs": [],
   "source": [
    "show_phase_portrait_and_trajectories(\n",
    "    beta=0.9,\n",
    "    r=1,\n",
    "    num_trajectories=10,\n",
    "    normalised=True,\n",
    ")"
   ]
  },
  {
   "cell_type": "code",
   "execution_count": null,
   "id": "bf6c086ae0740f34",
   "metadata": {},
   "outputs": [],
   "source": [
    "show_phase_portrait_and_trajectories(\n",
    "    beta=1.2,\n",
    "    r=1,\n",
    "    num_trajectories=10,\n",
    "    normalised=True,\n",
    ")"
   ]
  },
  {
   "cell_type": "code",
   "execution_count": null,
   "id": "1d6721d342c073fe",
   "metadata": {},
   "outputs": [],
   "source": [
    "show_phase_portrait_and_trajectories(\n",
    "    beta=1.9,\n",
    "    r=1,\n",
    "    num_trajectories=10,\n",
    "    normalised=True,\n",
    ")"
   ]
  },
  {
   "cell_type": "markdown",
   "id": "1970235be6a3a0de",
   "metadata": {},
   "source": [
    "At last, we will show the total number of people infected throughout the whole pandemic as a function of $R_0$. Here, as before, $N = r = 1$, so $R_0 = \\beta$. The initial values for every simulation are $S(0) = 0.99, I(0) = 0.01, R(0) = 0$."
   ]
  },
  {
   "cell_type": "code",
   "execution_count": null,
   "id": "cd752d5802f73df",
   "metadata": {},
   "outputs": [],
   "source": [
    "show_total_number_of_infected()"
   ]
  },
  {
   "cell_type": "markdown",
   "id": "b19a0c38a72a88f5",
   "metadata": {},
   "source": [
    "As we can see, the curve starts going up really fast after $\\beta$ crosses the $\\beta = 1$ threshold. In the limit, the total amount of infected goes to $1$."
   ]
  },
  {
   "cell_type": "markdown",
   "id": "f8f460faca006f60",
   "metadata": {},
   "source": [
    "## Exercise 2\n",
    "\n",
    "Now we are tasked with simulating the $SIR$ model on a graph."
   ]
  },
  {
   "cell_type": "code",
   "execution_count": null,
   "id": "bdbcc71596b194b8",
   "metadata": {
    "ExecuteTime": {
     "end_time": "2024-06-04T20:29:16.165479Z",
     "start_time": "2024-06-04T20:29:16.162705Z"
    }
   },
   "outputs": [],
   "source": [
    "import networkx as nx\n",
    "import plotly.express as xp\n",
    "from exercise_2 import (\n",
    "    animate,\n",
    "    get_average_fraction_of_infected_nodes,\n",
    "    show_measures,\n",
    "    simulate,\n",
    "    step_forward_asynchronous,\n",
    ")"
   ]
  },
  {
   "cell_type": "markdown",
   "id": "3b968126ab0abdfc",
   "metadata": {},
   "source": [
    "We will consider a $SIR$ model on the following graphs: 2D lattice, random graph, Watts-Strogatz graph, and Barabasi-Albert graph. We will keep the number of nodes in the networks at $N = 100$\n",
    "\n",
    "First, we plot the fraction of infected nodes in the network at each point in time."
   ]
  },
  {
   "cell_type": "code",
   "execution_count": null,
   "id": "83cfe99cb4e39c50",
   "metadata": {},
   "outputs": [],
   "source": [
    "xp.line(\n",
    "    y=get_average_fraction_of_infected_nodes(\n",
    "        graph=nx.grid_2d_graph(10, 10),\n",
    "        p=0.3,\n",
    "        max_steps=30,\n",
    "        num_runs=100,\n",
    "        initial_infectious=(5, 5),\n",
    "    )\n",
    ").show()"
   ]
  },
  {
   "cell_type": "code",
   "execution_count": null,
   "id": "24cbcbb8457c7029",
   "metadata": {},
   "outputs": [],
   "source": [
    "xp.line(\n",
    "    y=get_average_fraction_of_infected_nodes(\n",
    "        graph=nx.grid_2d_graph(10, 10),\n",
    "        p=0.5,\n",
    "        max_steps=30,\n",
    "        num_runs=100,\n",
    "        initial_infectious=(5, 5),\n",
    "    )\n",
    ").show()"
   ]
  },
  {
   "cell_type": "code",
   "execution_count": null,
   "id": "ba567270eaadfcc7",
   "metadata": {},
   "outputs": [],
   "source": [
    "xp.line(\n",
    "    y=get_average_fraction_of_infected_nodes(\n",
    "        graph=nx.grid_2d_graph(10, 10),\n",
    "        p=0.8,\n",
    "        max_steps=30,\n",
    "        num_runs=100,\n",
    "        initial_infectious=(5, 5),\n",
    "    )\n",
    ").show()"
   ]
  },
  {
   "cell_type": "code",
   "execution_count": null,
   "id": "72831213-d2c1-4d6a-bccb-36e8d70254df",
   "metadata": {},
   "outputs": [],
   "source": [
    "xp.line(\n",
    "    y=get_average_fraction_of_infected_nodes(\n",
    "        graph=nx.erdos_renyi_graph(100, 0.1),\n",
    "        p=0.3,\n",
    "        max_steps=30,\n",
    "        num_runs=100,\n",
    "        initial_infectious=0,\n",
    "    )\n",
    ").show()"
   ]
  },
  {
   "cell_type": "code",
   "execution_count": null,
   "id": "8657ed00-de12-48dc-95e7-54aab36b4789",
   "metadata": {},
   "outputs": [],
   "source": [
    "xp.line(\n",
    "    y=get_average_fraction_of_infected_nodes(\n",
    "        graph=nx.erdos_renyi_graph(100, 0.1),\n",
    "        p=0.5,\n",
    "        max_steps=30,\n",
    "        num_runs=100,\n",
    "        initial_infectious=0,\n",
    "    )\n",
    ").show()"
   ]
  },
  {
   "cell_type": "code",
   "execution_count": null,
   "id": "c34fa0a2-68ff-4dcb-a7de-22044832611b",
   "metadata": {},
   "outputs": [],
   "source": [
    "xp.line(\n",
    "    y=get_average_fraction_of_infected_nodes(\n",
    "        graph=nx.erdos_renyi_graph(100, 0.1),\n",
    "        p=0.8,\n",
    "        max_steps=30,\n",
    "        num_runs=100,\n",
    "        initial_infectious=0,\n",
    "    )\n",
    ").show()"
   ]
  },
  {
   "cell_type": "code",
   "execution_count": null,
   "id": "88c09d3a-a37b-47f4-8f97-1e721718c19f",
   "metadata": {},
   "outputs": [],
   "source": [
    "xp.line(\n",
    "    y=get_average_fraction_of_infected_nodes(\n",
    "        graph=nx.watts_strogatz_graph(100, 4, 0.4),\n",
    "        p=0.3,\n",
    "        max_steps=20,\n",
    "        num_runs=100,\n",
    "        initial_infectious=0,\n",
    "    ),\n",
    ").show()"
   ]
  },
  {
   "cell_type": "code",
   "execution_count": null,
   "id": "19839d82-59b9-4a9f-841a-7334017317c0",
   "metadata": {},
   "outputs": [],
   "source": [
    "xp.line(\n",
    "    y=get_average_fraction_of_infected_nodes(\n",
    "        graph=nx.watts_strogatz_graph(100, 4, 0.4),\n",
    "        p=0.5,\n",
    "        max_steps=20,\n",
    "        num_runs=100,\n",
    "        initial_infectious=0,\n",
    "    ),\n",
    ").show()"
   ]
  },
  {
   "cell_type": "code",
   "execution_count": null,
   "id": "ccb0bda7-6f24-4b3b-a3f9-c95e60480870",
   "metadata": {},
   "outputs": [],
   "source": [
    "xp.line(\n",
    "    y=get_average_fraction_of_infected_nodes(\n",
    "        graph=nx.watts_strogatz_graph(100, 4, 0.4),\n",
    "        p=0.8,\n",
    "        max_steps=20,\n",
    "        num_runs=100,\n",
    "        initial_infectious=0,\n",
    "    ),\n",
    ").show()"
   ]
  },
  {
   "cell_type": "code",
   "execution_count": null,
   "id": "14a410dc-b4a8-4c0a-841d-7f4a5d548096",
   "metadata": {},
   "outputs": [],
   "source": [
    "xp.line(\n",
    "    y=get_average_fraction_of_infected_nodes(\n",
    "        graph=nx.barabasi_albert_graph(100, 2),\n",
    "        p=0.3,\n",
    "        max_steps=10,\n",
    "        num_runs=100,\n",
    "        initial_infectious=0,\n",
    "    ),\n",
    ").show()"
   ]
  },
  {
   "cell_type": "code",
   "execution_count": null,
   "id": "e5c8238d-4bc9-413d-b148-0e49118206cb",
   "metadata": {},
   "outputs": [],
   "source": [
    "xp.line(\n",
    "    y=get_average_fraction_of_infected_nodes(\n",
    "        graph=nx.barabasi_albert_graph(100, 2),\n",
    "        p=0.5,\n",
    "        max_steps=10,\n",
    "        num_runs=100,\n",
    "        initial_infectious=0,\n",
    "    ),\n",
    ").show()"
   ]
  },
  {
   "cell_type": "code",
   "execution_count": null,
   "id": "2b8c0c48-eb60-482f-9ce5-ea963dd16818",
   "metadata": {},
   "outputs": [],
   "source": [
    "xp.line(\n",
    "    y=get_average_fraction_of_infected_nodes(\n",
    "        graph=nx.barabasi_albert_graph(100, 2),\n",
    "        p=0.8,\n",
    "        max_steps=10,\n",
    "        num_runs=100,\n",
    "        initial_infectious=0,\n",
    "    ),\n",
    ").show()"
   ]
  },
  {
   "cell_type": "markdown",
   "id": "3388fe30-fad0-4204-88ea-155d5f49231f",
   "metadata": {},
   "source": [
    "As we can see, different types of graphs give riset to different behaviour.\n",
    "\n",
    "The infection curves are very similar to the ones seen in exercise 1, in the $SIR$ model, which indicates that the model is working correctly.\n",
    "\n",
    "Now we will plot three different measures: \n",
    "- fraction of infected nodes in total,\n",
    "- time to clear infection,\n",
    "- time to the peak of the infection.\n",
    "\n",
    "We run all simulations on graphs that have $N = 100$ nodes, and a mean node degree "
   ]
  },
  {
   "cell_type": "code",
   "execution_count": null,
   "id": "6f0d3bdf-6053-4c4f-b604-5b379de2e8d6",
   "metadata": {},
   "outputs": [],
   "source": [
    "show_measures()"
   ]
  },
  {
   "cell_type": "markdown",
   "id": "f7ae7e01-91ec-460f-bd9d-66e9052f04b9",
   "metadata": {},
   "source": [
    "Now let's animate the evolution of the epidemic. We will run the simulations on graphs of size $N = 36$"
   ]
  },
  {
   "cell_type": "code",
   "execution_count": null,
   "id": "d0f37fb8-4b40-4bc4-b2b1-646fbade8b7c",
   "metadata": {},
   "outputs": [],
   "source": [
    "from IPython.display import Image"
   ]
  },
  {
   "cell_type": "code",
   "execution_count": null,
   "id": "22cba6a9-c7a1-498f-a5ee-70d5f3eee025",
   "metadata": {},
   "outputs": [],
   "source": [
    "graph = nx.grid_2d_graph(6, 6)\n",
    "simulation = simulate(\n",
    "    graph=graph,\n",
    "    max_steps=36,\n",
    "    p=0.5,\n",
    "    shortcircuit=True,\n",
    ")\n",
    "animate(graph, simulation, \"2d_lattice.gif\", grid_layout=True)\n",
    "Image(filename=\"2d_lattice.gif\")"
   ]
  },
  {
   "cell_type": "code",
   "execution_count": null,
   "id": "c804d7a6-d630-4f96-a6f9-f4ba4e4b951d",
   "metadata": {},
   "outputs": [],
   "source": [
    "graph = nx.erdos_renyi_graph(36, 0.1)\n",
    "simulation = simulate(\n",
    "    graph=graph,\n",
    "    max_steps=36,\n",
    "    p=0.5,\n",
    "    shortcircuit=True,\n",
    ")\n",
    "animate(graph, simulation, \"erdos_renyi.gif\")\n",
    "Image(filename=\"erdos_renyi.gif\")"
   ]
  },
  {
   "cell_type": "code",
   "execution_count": null,
   "id": "172c2ffe-142a-4305-be1f-9cb22d8b7f24",
   "metadata": {},
   "outputs": [],
   "source": [
    "graph = nx.watts_strogatz_graph(36, 4, 0.3)\n",
    "simulation = simulate(\n",
    "    graph=graph,\n",
    "    max_steps=36,\n",
    "    p=0.5,\n",
    "    shortcircuit=True,\n",
    ")\n",
    "animate(graph, simulation, \"watts_strogatz.gif\")\n",
    "Image(filename=\"watts_strogatz.gif\")"
   ]
  },
  {
   "cell_type": "code",
   "execution_count": null,
   "id": "5ae5ad22-5689-476f-9539-ab7d06b312bc",
   "metadata": {},
   "outputs": [],
   "source": [
    "graph = nx.barabasi_albert_graph(36, 2)\n",
    "simulation = simulate(\n",
    "    graph=graph,\n",
    "    max_steps=36,\n",
    "    p=0.5,\n",
    "    shortcircuit=True,\n",
    ")\n",
    "animate(graph, simulation, \"barabasi_albert.gif\")\n",
    "Image(filename=\"barabasi_albert.gif\")"
   ]
  },
  {
   "cell_type": "markdown",
   "id": "3c0614a7-d6fd-4753-963e-0adf723f08a6",
   "metadata": {},
   "source": [
    "Now we will do the same thing but using an asynchronous update scheme:"
   ]
  },
  {
   "cell_type": "code",
   "execution_count": null,
   "id": "45dc1ca7-8b27-489b-b452-9b283792eb94",
   "metadata": {},
   "outputs": [],
   "source": [
    "xp.line(\n",
    "    y=get_average_fraction_of_infected_nodes(\n",
    "        graph=nx.grid_2d_graph(10, 10),\n",
    "        p=0.3,\n",
    "        max_steps=30,\n",
    "        num_runs=100,\n",
    "        initial_infectious=(5, 5),\n",
    "        step_forward=step_forward_asynchronous,\n",
    "    ),\n",
    ").show()"
   ]
  },
  {
   "cell_type": "code",
   "execution_count": null,
   "id": "3805f74d-3f8e-49d2-aca3-ecb9801b9b41",
   "metadata": {},
   "outputs": [],
   "source": [
    "xp.line(\n",
    "    y=get_average_fraction_of_infected_nodes(\n",
    "        graph=nx.grid_2d_graph(10, 10),\n",
    "        p=0.5,\n",
    "        max_steps=30,\n",
    "        num_runs=100,\n",
    "        initial_infectious=(5, 5),\n",
    "        step_forward=step_forward_asynchronous,\n",
    "    ),\n",
    ").show()"
   ]
  },
  {
   "cell_type": "code",
   "execution_count": null,
   "id": "ac538958-82a7-44a6-9553-fb8bee982923",
   "metadata": {},
   "outputs": [],
   "source": [
    "xp.line(\n",
    "    y=get_average_fraction_of_infected_nodes(\n",
    "        graph=nx.grid_2d_graph(10, 10),\n",
    "        p=0.8,\n",
    "        max_steps=30,\n",
    "        num_runs=100,\n",
    "        initial_infectious=(5, 5),\n",
    "        step_forward=step_forward_asynchronous,\n",
    "    ),\n",
    ").show()"
   ]
  },
  {
   "cell_type": "code",
   "execution_count": null,
   "id": "4cb36fe0-2bd6-4352-8f7a-67de27726766",
   "metadata": {},
   "outputs": [],
   "source": [
    "xp.line(\n",
    "    y=get_average_fraction_of_infected_nodes(\n",
    "        graph=nx.erdos_renyi_graph(100, 0.1),\n",
    "        p=0.3,\n",
    "        max_steps=10,\n",
    "        num_runs=100,\n",
    "        initial_infectious=0,\n",
    "        step_forward=step_forward_asynchronous,\n",
    "    )\n",
    ").show()"
   ]
  },
  {
   "cell_type": "code",
   "execution_count": null,
   "id": "038d41c9-9f94-4c8f-9920-f48881bc0ae4",
   "metadata": {},
   "outputs": [],
   "source": [
    "xp.line(\n",
    "    y=get_average_fraction_of_infected_nodes(\n",
    "        graph=nx.erdos_renyi_graph(100, 0.1),\n",
    "        p=0.5,\n",
    "        max_steps=10,\n",
    "        num_runs=100,\n",
    "        initial_infectious=0,\n",
    "        step_forward=step_forward_asynchronous,\n",
    "    )\n",
    ").show()"
   ]
  },
  {
   "cell_type": "code",
   "execution_count": null,
   "id": "5cc81236-4901-4c0d-a655-d760650d7877",
   "metadata": {},
   "outputs": [],
   "source": [
    "xp.line(\n",
    "    y=get_average_fraction_of_infected_nodes(\n",
    "        graph=nx.erdos_renyi_graph(100, 0.1),\n",
    "        p=0.8,\n",
    "        max_steps=10,\n",
    "        num_runs=100,\n",
    "        initial_infectious=0,\n",
    "        step_forward=step_forward_asynchronous,\n",
    "    )\n",
    ").show()"
   ]
  },
  {
   "cell_type": "code",
   "execution_count": null,
   "id": "69e0f63c-e5b1-4e2c-845d-3a14136c3bd2",
   "metadata": {},
   "outputs": [],
   "source": [
    "xp.line(\n",
    "    y=get_average_fraction_of_infected_nodes(\n",
    "        graph=nx.watts_strogatz_graph(100, 4, 0.4),\n",
    "        p=0.3,\n",
    "        max_steps=20,\n",
    "        num_runs=100,\n",
    "        initial_infectious=0,\n",
    "        step_forward=step_forward_asynchronous,\n",
    "    )\n",
    ").show()"
   ]
  },
  {
   "cell_type": "code",
   "execution_count": null,
   "id": "c5d417bf-21e1-4b19-8599-e4591714b47f",
   "metadata": {},
   "outputs": [],
   "source": [
    "xp.line(\n",
    "    y=get_average_fraction_of_infected_nodes(\n",
    "        graph=nx.watts_strogatz_graph(100, 4, 0.4),\n",
    "        p=0.5,\n",
    "        max_steps=20,\n",
    "        num_runs=100,\n",
    "        initial_infectious=0,\n",
    "        step_forward=step_forward_asynchronous,\n",
    "    )\n",
    ").show()"
   ]
  },
  {
   "cell_type": "code",
   "execution_count": null,
   "id": "6b4b6ce9-b07c-4c98-91e5-159b2b461408",
   "metadata": {},
   "outputs": [],
   "source": [
    "xp.line(\n",
    "    y=get_average_fraction_of_infected_nodes(\n",
    "        graph=nx.watts_strogatz_graph(100, 4, 0.4),\n",
    "        p=0.8,\n",
    "        max_steps=20,\n",
    "        num_runs=100,\n",
    "        initial_infectious=0,\n",
    "        step_forward=step_forward_asynchronous,\n",
    "    )\n",
    ").show()"
   ]
  },
  {
   "cell_type": "code",
   "execution_count": null,
   "id": "988e57b0-5bf2-4a0b-850f-108610c45705",
   "metadata": {},
   "outputs": [],
   "source": [
    "xp.line(\n",
    "    y=get_average_fraction_of_infected_nodes(\n",
    "        graph=nx.barabasi_albert_graph(100, 2),\n",
    "        p=0.3,\n",
    "        max_steps=10,\n",
    "        num_runs=100,\n",
    "        initial_infectious=0,\n",
    "        step_forward=step_forward_asynchronous,\n",
    "    )\n",
    ").show()"
   ]
  },
  {
   "cell_type": "code",
   "execution_count": null,
   "id": "d0ba7026-7f20-4c86-89da-ae3dc71ef8c7",
   "metadata": {},
   "outputs": [],
   "source": [
    "xp.line(\n",
    "    y=get_average_fraction_of_infected_nodes(\n",
    "        graph=nx.barabasi_albert_graph(100, 2),\n",
    "        p=0.5,\n",
    "        max_steps=10,\n",
    "        num_runs=100,\n",
    "        initial_infectious=0,\n",
    "        step_forward=step_forward_asynchronous,\n",
    "    )\n",
    ").show()"
   ]
  },
  {
   "cell_type": "code",
   "execution_count": null,
   "id": "540ab1f0-4efc-4768-848e-a2a8151d829a",
   "metadata": {},
   "outputs": [],
   "source": [
    "xp.line(\n",
    "    y=get_average_fraction_of_infected_nodes(\n",
    "        graph=nx.barabasi_albert_graph(100, 2),\n",
    "        p=0.8,\n",
    "        max_steps=10,\n",
    "        num_runs=100,\n",
    "        initial_infectious=0,\n",
    "        step_forward=step_forward_asynchronous,\n",
    "    )\n",
    ").show()"
   ]
  },
  {
   "cell_type": "code",
   "execution_count": null,
   "id": "74281eff-f43a-476c-aa35-b76933170b37",
   "metadata": {},
   "outputs": [],
   "source": [
    "show_measures(step_forward=step_forward_asynchronous)"
   ]
  },
  {
   "cell_type": "code",
   "execution_count": null,
   "id": "d8113f77-6fbf-4b8d-a5af-f23fd83344f4",
   "metadata": {},
   "outputs": [],
   "source": [
    "graph = nx.grid_2d_graph(6, 6)\n",
    "simulation = simulate(\n",
    "    graph=graph,\n",
    "    max_steps=36,\n",
    "    p=0.5,\n",
    "    shortcircuit=True,\n",
    "    step_forward=step_forward_asynchronous,\n",
    ")\n",
    "animate(graph, simulation, \"2d_lattice_async.gif\", grid_layout=True)\n",
    "Image(filename=\"2d_lattice_async.gif\")"
   ]
  },
  {
   "cell_type": "code",
   "execution_count": null,
   "id": "67871b78-097e-4777-bdd8-bbe4eb1f188a",
   "metadata": {},
   "outputs": [],
   "source": [
    "graph = nx.erdos_renyi_graph(36, 0.1)\n",
    "simulation = simulate(\n",
    "    graph=graph,\n",
    "    max_steps=36,\n",
    "    p=0.5,\n",
    "    shortcircuit=True,\n",
    "    step_forward=step_forward_asynchronous,\n",
    ")\n",
    "animate(graph, simulation, \"erdos_renyi_async.gif\")\n",
    "Image(filename=\"erdos_renyi_async.gif\")"
   ]
  },
  {
   "cell_type": "code",
   "execution_count": null,
   "id": "60976a84-6fc0-4803-8b65-cc4553c9fe42",
   "metadata": {},
   "outputs": [],
   "source": [
    "graph = nx.watts_strogatz_graph(36, 4, 0.3)\n",
    "simulation = simulate(\n",
    "    graph=graph,\n",
    "    max_steps=36,\n",
    "    p=0.5,\n",
    "    shortcircuit=True,\n",
    "    step_forward=step_forward_asynchronous,\n",
    ")\n",
    "animate(graph, simulation, \"watts_strogatz_async.gif\")\n",
    "Image(filename=\"watts_strogatz_async.gif\")"
   ]
  },
  {
   "cell_type": "code",
   "execution_count": null,
   "id": "3d3eb655-5bd1-433a-93d0-e7d47dacf14e",
   "metadata": {},
   "outputs": [],
   "source": [
    "graph = nx.barabasi_albert_graph(36, 2)\n",
    "simulation = simulate(\n",
    "    graph=graph,\n",
    "    max_steps=36,\n",
    "    p=0.5,\n",
    "    shortcircuit=True,\n",
    "    step_forward=step_forward_asynchronous,\n",
    ")\n",
    "animate(graph, simulation, \"barabasi_albert_async.gif\")\n",
    "Image(filename=\"barabasi_albert_async.gif\")"
   ]
  },
  {
   "cell_type": "markdown",
   "id": "e4fa2cb7-478f-45fb-89bb-744dbcf1b908",
   "metadata": {},
   "source": [
    "As we can see, the async scheme gives us very similar results to the previous approach."
   ]
  }
 ],
 "metadata": {
  "kernelspec": {
   "display_name": "Python 3 (ipykernel)",
   "language": "python",
   "name": "python3"
  },
  "language_info": {
   "codemirror_mode": {
    "name": "ipython",
    "version": 3
   },
   "file_extension": ".py",
   "mimetype": "text/x-python",
   "name": "python",
   "nbconvert_exporter": "python",
   "pygments_lexer": "ipython3",
   "version": "3.11.9"
  }
 },
 "nbformat": 4,
 "nbformat_minor": 5
}
