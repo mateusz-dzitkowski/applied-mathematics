{
 "cells": [
  {
   "cell_type": "markdown",
   "id": "e6a5ccfafa89fad",
   "metadata": {},
   "source": [
    "# Diffusion processes on complex networks - assignment 5\n",
    "### Mateusz Dzitkowski 249777\n",
    "\n",
    "## Exercise 1\n",
    "\n",
    "We are tasked with solving numerically the following set of equations:\n",
    "$$\n",
    "\\begin{aligned}\n",
    "S'(t) &= -\\beta SI \\\\\n",
    "I'(t) &= \\beta SI - rI \\\\\n",
    "R'(t) &= rI.\n",
    "\\end{aligned}\n",
    "$$\n",
    "\n",
    "We will see if the definition of $R_0$ given by $R_0 = \\frac{\\beta N}{r}$ makes sense given the numerical results."
   ]
  },
  {
   "cell_type": "code",
   "execution_count": 1,
   "id": "50801ec304bfe382",
   "metadata": {
    "ExecuteTime": {
     "end_time": "2024-06-04T20:03:05.008667Z",
     "start_time": "2024-06-04T20:03:05.004857Z"
    }
   },
   "outputs": [
    {
     "data": {
      "text/html": [
       "        <script type=\"text/javascript\">\n",
       "        window.PlotlyConfig = {MathJaxConfig: 'local'};\n",
       "        if (window.MathJax && window.MathJax.Hub && window.MathJax.Hub.Config) {window.MathJax.Hub.Config({SVG: {font: \"STIX-Web\"}});}\n",
       "        if (typeof require !== 'undefined') {\n",
       "        require.undef(\"plotly\");\n",
       "        requirejs.config({\n",
       "            paths: {\n",
       "                'plotly': ['https://cdn.plot.ly/plotly-2.32.0.min']\n",
       "            }\n",
       "        });\n",
       "        require(['plotly'], function(Plotly) {\n",
       "            window._Plotly = Plotly;\n",
       "        });\n",
       "        }\n",
       "        </script>\n",
       "        "
      ]
     },
     "metadata": {},
     "output_type": "display_data"
    }
   ],
   "source": [
    "from exercise_1 import (\n",
    "    show_solution,\n",
    "    show_phase_portrait_and_trajectories,\n",
    "    show_total_number_of_infected,\n",
    ")\n",
    "from plotly.offline import init_notebook_mode\n",
    "from warnings import filterwarnings\n",
    "\n",
    "filterwarnings(\"ignore\")  # stinky division by zero\n",
    "init_notebook_mode(connected=True)"
   ]
  },
  {
   "cell_type": "markdown",
   "id": "4c6f0ce3334d4bbd",
   "metadata": {},
   "source": [
    "We will plot the evolution of the system for various parameters. We fix $N = 1$, and $r = 1$, and vary $\\beta$ so that $R_0 = \\beta$, here are the results:"
   ]
  },
  {
   "cell_type": "code",
   "id": "f6e85e4722a0b79a",
   "metadata": {},
   "source": [
    "show_solution(\n",
    "    beta=0.4,\n",
    "    r=1,\n",
    "    t_max=10,\n",
    "    initial=[0.85, 0.15, 0],\n",
    ")"
   ],
   "outputs": [],
   "execution_count": null
  },
  {
   "cell_type": "code",
   "id": "5ae61c7d8eda21ea",
   "metadata": {},
   "source": [
    "show_solution(\n",
    "    beta=0.8,\n",
    "    r=1,\n",
    "    t_max=10,\n",
    "    initial=[0.85, 0.15, 0],\n",
    ")"
   ],
   "outputs": [],
   "execution_count": null
  },
  {
   "cell_type": "code",
   "id": "f299e68e6d939e86",
   "metadata": {},
   "source": [
    "show_solution(\n",
    "    beta=1,\n",
    "    r=1,\n",
    "    t_max=10,\n",
    "    initial=[0.85, 0.15, 0],\n",
    ")"
   ],
   "outputs": [],
   "execution_count": null
  },
  {
   "cell_type": "code",
   "id": "38d824783d02601b",
   "metadata": {},
   "source": [
    "show_solution(\n",
    "    beta=1.2,\n",
    "    r=1,\n",
    "    t_max=10,\n",
    "    initial=[0.85, 0.15, 0],\n",
    ")"
   ],
   "outputs": [],
   "execution_count": null
  },
  {
   "cell_type": "code",
   "id": "442d0c07bd2c7db",
   "metadata": {},
   "source": [
    "show_solution(\n",
    "    beta=1.8,\n",
    "    r=1,\n",
    "    t_max=10,\n",
    "    initial=[0.85, 0.15, 0],\n",
    ")"
   ],
   "outputs": [],
   "execution_count": null
  },
  {
   "cell_type": "markdown",
   "id": "d288ae97db38b74b",
   "metadata": {},
   "source": [
    "As we can see, the green, removed, line barely lifts off the ground at small $\\beta$, but as $\\beta$ increases, the epidemic spreads more and more, at $\\beta = 1.8$ over $0.8$ of the population gets infected.\n",
    "\n",
    "Now we will plot the phase portrait of the reduced $SI$ system given by\n",
    "$$\n",
    "\\begin{aligned}\n",
    "S'(t) &= -\\beta SI \\\\\n",
    "I'(t) &= \\beta SI - rI\n",
    "\\end{aligned}\n",
    "$$\n",
    "along with some trajectories starting at random points in the $[0, 1]^2$ square."
   ]
  },
  {
   "cell_type": "code",
   "id": "b31a5b01224e2148",
   "metadata": {},
   "source": [
    "show_phase_portrait_and_trajectories(\n",
    "    beta=0.3,\n",
    "    r=1,\n",
    "    num_trajectories=10,\n",
    "    normalised=True,\n",
    ")"
   ],
   "outputs": [],
   "execution_count": null
  },
  {
   "cell_type": "code",
   "id": "f96c0dfc6247e723",
   "metadata": {},
   "source": [
    "show_phase_portrait_and_trajectories(\n",
    "    beta=0.9,\n",
    "    r=1,\n",
    "    num_trajectories=10,\n",
    "    normalised=True,\n",
    ")"
   ],
   "outputs": [],
   "execution_count": null
  },
  {
   "cell_type": "code",
   "id": "bf6c086ae0740f34",
   "metadata": {},
   "source": [
    "show_phase_portrait_and_trajectories(\n",
    "    beta=1.2,\n",
    "    r=1,\n",
    "    num_trajectories=10,\n",
    "    normalised=True,\n",
    ")"
   ],
   "outputs": [],
   "execution_count": null
  },
  {
   "cell_type": "code",
   "id": "1d6721d342c073fe",
   "metadata": {},
   "source": [
    "show_phase_portrait_and_trajectories(\n",
    "    beta=1.9,\n",
    "    r=1,\n",
    "    num_trajectories=10,\n",
    "    normalised=True,\n",
    ")"
   ],
   "outputs": [],
   "execution_count": null
  },
  {
   "cell_type": "markdown",
   "id": "1970235be6a3a0de",
   "metadata": {},
   "source": [
    "At last, we will show the total number of people infected throughout the whole pandemic as a function of $R_0$. Here, as before, $N = r = 1$, so $R_0 = \\beta$. The initial values for every simulation are $S(0) = 0.99, I(0) = 0.01, R(0) = 0$."
   ]
  },
  {
   "cell_type": "code",
   "id": "cd752d5802f73df",
   "metadata": {},
   "source": [
    "show_total_number_of_infected()"
   ],
   "outputs": [],
   "execution_count": null
  },
  {
   "cell_type": "markdown",
   "id": "b19a0c38a72a88f5",
   "metadata": {},
   "source": [
    "As we can see, the curve starts going up really fast after $\\beta$ crosses the $\\beta = 1$ threshold. In the limit, the total amount of infected goes to $1$."
   ]
  },
  {
   "cell_type": "markdown",
   "id": "f8f460faca006f60",
   "metadata": {},
   "source": [
    "## Exercise 2\n",
    "\n",
    "Now we are tasked with simulating the $SIR$ model on a graph."
   ]
  },
  {
   "cell_type": "code",
   "execution_count": 12,
   "id": "bdbcc71596b194b8",
   "metadata": {
    "ExecuteTime": {
     "end_time": "2024-06-04T20:29:16.165479Z",
     "start_time": "2024-06-04T20:29:16.162705Z"
    }
   },
   "outputs": [],
   "source": [
    "from exercise_2 import (\n",
    "    get_average_fraction_of_infected_nodes,\n",
    "    show_measures,\n",
    ")\n",
    "import plotly.express as xp\n",
    "import networkx as nx"
   ]
  },
  {
   "cell_type": "markdown",
   "id": "3b968126ab0abdfc",
   "metadata": {},
   "source": [
    "We will consider a $SIR$ model on the following graphs: 2D lattice, random graph, Watts-Strogatz graph, and Barabasi-Albert graph. We will keep the number of nodes in the networks at $N = 100$\n",
    "\n",
    "First, we plot the fraction of infected nodes in the network at each point in time."
   ]
  },
  {
   "cell_type": "code",
   "id": "83cfe99cb4e39c50",
   "metadata": {},
   "source": [
    "xp.line(y=get_average_fraction_of_infected_nodes(graph=nx.grid_2d_graph(10, 10), p=0.3, max_steps=30, num_runs=100, initial_infectious=(5, 5))).show()"
   ],
   "outputs": [],
   "execution_count": null
  },
  {
   "cell_type": "code",
   "id": "24cbcbb8457c7029",
   "metadata": {},
   "source": [
    "xp.line(y=get_average_fraction_of_infected_nodes(graph=nx.grid_2d_graph(10, 10), p=0.5, max_steps=30, num_runs=100, initial_infectious=(5, 5))).show()"
   ],
   "outputs": [],
   "execution_count": null
  },
  {
   "cell_type": "code",
   "id": "ba567270eaadfcc7",
   "metadata": {},
   "source": [
    "xp.line(y=get_average_fraction_of_infected_nodes(graph=nx.grid_2d_graph(10, 10), p=0.8, max_steps=30, num_runs=100, initial_infectious=(5, 5))).show()"
   ],
   "outputs": [],
   "execution_count": null
  },
  {
   "cell_type": "code",
   "id": "72831213-d2c1-4d6a-bccb-36e8d70254df",
   "metadata": {},
   "source": [
    "xp.line(y=get_average_fraction_of_infected_nodes(graph=nx.erdos_renyi_graph(100, 0.1), p=0.3, max_steps=10, num_runs=100, initial_infectious=0)).show()"
   ],
   "outputs": [],
   "execution_count": null
  },
  {
   "cell_type": "code",
   "id": "8657ed00-de12-48dc-95e7-54aab36b4789",
   "metadata": {},
   "source": [
    "xp.line(y=get_average_fraction_of_infected_nodes(graph=nx.erdos_renyi_graph(100, 0.1), p=0.5, max_steps=10, num_runs=100, initial_infectious=0)).show()"
   ],
   "outputs": [],
   "execution_count": null
  },
  {
   "cell_type": "code",
   "id": "c34fa0a2-68ff-4dcb-a7de-22044832611b",
   "metadata": {},
   "source": [
    "xp.line(y=get_average_fraction_of_infected_nodes(graph=nx.erdos_renyi_graph(100, 0.1), p=0.8, max_steps=10, num_runs=100, initial_infectious=0)).show()"
   ],
   "outputs": [],
   "execution_count": null
  },
  {
   "cell_type": "code",
   "id": "88c09d3a-a37b-47f4-8f97-1e721718c19f",
   "metadata": {},
   "source": [
    "xp.line(y=get_average_fraction_of_infected_nodes(graph=nx.watts_strogatz_graph(100, 4, 0.4), p=0.3, max_steps=20, num_runs=100, initial_infectious=0)).show()"
   ],
   "outputs": [],
   "execution_count": null
  },
  {
   "cell_type": "code",
   "id": "19839d82-59b9-4a9f-841a-7334017317c0",
   "metadata": {},
   "source": [
    "xp.line(y=get_average_fraction_of_infected_nodes(graph=nx.watts_strogatz_graph(100, 4, 0.4), p=0.5, max_steps=20, num_runs=100, initial_infectious=0)).show()"
   ],
   "outputs": [],
   "execution_count": null
  },
  {
   "cell_type": "code",
   "id": "ccb0bda7-6f24-4b3b-a3f9-c95e60480870",
   "metadata": {},
   "source": [
    "xp.line(y=get_average_fraction_of_infected_nodes(graph=nx.watts_strogatz_graph(100, 4, 0.4), p=0.8, max_steps=20, num_runs=100, initial_infectious=0)).show()"
   ],
   "outputs": [],
   "execution_count": null
  },
  {
   "cell_type": "code",
   "id": "14a410dc-b4a8-4c0a-841d-7f4a5d548096",
   "metadata": {},
   "source": [
    "xp.line(y=get_average_fraction_of_infected_nodes(graph=nx.barabasi_albert_graph(100, 2), p=0.3, max_steps=10, num_runs=100, initial_infectious=0)).show()"
   ],
   "outputs": [],
   "execution_count": null
  },
  {
   "cell_type": "code",
   "id": "e5c8238d-4bc9-413d-b148-0e49118206cb",
   "metadata": {},
   "source": [
    "xp.line(y=get_average_fraction_of_infected_nodes(graph=nx.barabasi_albert_graph(100, 2), p=0.5, max_steps=10, num_runs=100, initial_infectious=0)).show()"
   ],
   "outputs": [],
   "execution_count": null
  },
  {
   "cell_type": "code",
   "id": "2b8c0c48-eb60-482f-9ce5-ea963dd16818",
   "metadata": {},
   "source": [
    "xp.line(y=get_average_fraction_of_infected_nodes(graph=nx.barabasi_albert_graph(100, 2), p=0.8, max_steps=10, num_runs=100, initial_infectious=0)).show()"
   ],
   "outputs": [],
   "execution_count": null
  },
  {
   "cell_type": "markdown",
   "id": "3388fe30-fad0-4204-88ea-155d5f49231f",
   "metadata": {},
   "source": [
    "As we can see, different types of graphs give riset to different behaviour.\n",
    "\n",
    "The infection curves are very similar to the ones seen in exercise 1, in the $SIR$ model, which indicates that the model is working correctly.\n",
    "\n",
    "Now we will plot three different measures: \n",
    "- fraction of infected nodes in total,\n",
    "- time to clear infection,\n",
    "- time to the peak of the infection.\n",
    "\n",
    "We run all simulations on graphs that have $N = 100$ nodes, and a mean node degree "
   ]
  },
  {
   "cell_type": "code",
   "id": "6f0d3bdf-6053-4c4f-b604-5b379de2e8d6",
   "metadata": {},
   "source": [
    "show_measures()"
   ],
   "outputs": [],
   "execution_count": null
  },
  {
   "cell_type": "code",
   "execution_count": null,
   "id": "dcc182e2-1d6f-4b67-bf0a-414baa768099",
   "metadata": {},
   "outputs": [],
   "source": []
  }
 ],
 "metadata": {
  "kernelspec": {
   "display_name": "Python 3 (ipykernel)",
   "language": "python",
   "name": "python3"
  },
  "language_info": {
   "codemirror_mode": {
    "name": "ipython",
    "version": 3
   },
   "file_extension": ".py",
   "mimetype": "text/x-python",
   "name": "python",
   "nbconvert_exporter": "python",
   "pygments_lexer": "ipython3",
   "version": "3.11.9"
  }
 },
 "nbformat": 4,
 "nbformat_minor": 5
}
